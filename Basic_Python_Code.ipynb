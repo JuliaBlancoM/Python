{
 "cells": [
  {
   "cell_type": "markdown",
   "id": "40904da9",
   "metadata": {},
   "source": [
    "## 1. Cree una lista de 100 números aleatorios entre 1 y 100. Muéstrela tal como se ha generado, despues muestrela ordenada de menor a mayor."
   ]
  },
  {
   "cell_type": "code",
   "execution_count": null,
   "id": "be7e2625",
   "metadata": {
    "scrolled": true
   },
   "outputs": [],
   "source": [
    "import funcionesutiles as U\n",
    "lista_numeros = []\n",
    "for i in range(100):\n",
    "    numero = U.Numeroaleatorio(1,100)\n",
    "    lista_numeros.append(numero)\n",
    "print(\"Lista de 100 numeros aleatorios entre 1 y 100:\\n\",lista_numeros)"
   ]
  },
  {
   "cell_type": "code",
   "execution_count": null,
   "id": "18e5b2b0",
   "metadata": {
    "scrolled": true
   },
   "outputs": [],
   "source": [
    "print(\"\\nLa misma lista ordenada:\\n\" + str(U.ordenar(lista_numeros))) #pongo esta parte del ejercicio aparte para poder saltársela y obtener la lista desordenada para utilizarla en el ejercicio 2"
   ]
  },
  {
   "cell_type": "markdown",
   "id": "3b2356d0",
   "metadata": {},
   "source": [
    "## 2. Realizamos un programa que gestione la lista anterior (desordenada) con las siguientes opciones:\n",
    "1. Añadir número a la lista\n",
    "2. Eliminar numero según su posición\n",
    "3. Visualizar número según su posición\n",
    "4. Ordernar los números (se puede utilizar la función realizada en el ejercicio anterior)\n",
    "5. Visualizar lista\n",
    "6. Añadir la lista al final del fichero c:\\EjerciciosPython\\Tarea.xlsx\n",
    "7. Salir"
   ]
  },
  {
   "cell_type": "code",
   "execution_count": null,
   "id": "3a59db27",
   "metadata": {
    "scrolled": false
   },
   "outputs": [],
   "source": [
    "import openpyxl\n",
    "import funcionesutiles as U\n",
    "def Menu(): #esta función no la añado al módulo porque específica de este ejercicio\n",
    "    print(\"Selecciona una de las siguientes opciones:\\n1. Añadir número\\n2. Eliminar número\\n3. Visualizar número\\n4. Ordenar lista\\n5. Visualizar lista\\n6. Añadir lista a Excel\\n7. Salir\")\n",
    "\n",
    "          \n",
    "#Programa que utiliza las funciones escritas aquí y en el módulo funcionesutiles:\n",
    "opcion=0\n",
    "lista=lista_numeros\n",
    "Menu()\n",
    "def anadir_a_excel(lista): #esta no la añado al módulo porque es específica de un único ejercicio.\n",
    "    excel_document = openpyxl.load_workbook('C:\\\\EjerciciosPython\\\\Modulos\\\\tarea_mod_i.xlsx')\n",
    "    Hoja = excel_document['Hoja1']\n",
    "    Hoja.append(lista)\n",
    "    excel_document.save('C:\\\\EjerciciosPython\\\\Modulos\\\\tarea_mod_i.xlsx')\n",
    "while opcion!=7:\n",
    "    opcion=U.valida(1,7)\n",
    "    if opcion==1:\n",
    "        numero=int(input(\"Introduce un número: \"))\n",
    "        U.anadir_numero(lista, numero)\n",
    "        print(lista)\n",
    "    if opcion==2:\n",
    "        posicion=int(input(\"Introduce una posición: \"))\n",
    "        U.eliminar_numero(lista, posicion)\n",
    "        print(lista)\n",
    "    if opcion==3:\n",
    "        posicion=int(input(\"Introduce una posición: \"))\n",
    "        print(U.mostrar_numero(lista, posicion))\n",
    "    if opcion==4:\n",
    "        print(U.ordenar(lista))\n",
    "    if opcion==5:\n",
    "        print(U.mostrar_lista(lista))\n",
    "    if opcion==6:\n",
    "        anadir_a_excel(lista)\n",
    "        print(\"La lista se ha guardado en la hoja de Excel\")\n",
    "    "
   ]
  },
  {
   "cell_type": "markdown",
   "id": "152372b9",
   "metadata": {},
   "source": [
    "## 3. Crear una estructura que almacene el nombre, apellido, email, teléfono y nota de 10 alumnos. Mostrar gráficamente el número de aprobados y suspensos."
   ]
  },
  {
   "cell_type": "code",
   "execution_count": null,
   "id": "a52694e8",
   "metadata": {
    "scrolled": true
   },
   "outputs": [],
   "source": [
    "import funcionesutiles as U\n",
    "import openpyxl\n",
    "\n",
    "diccionario1={}\n",
    "U.anadir_datos(diccionario1)\n",
    "print(diccionario1)\n",
    "\n",
    "diccionario2={}\n",
    "U.anadir_datos(diccionario2)\n",
    "print(diccionario2)\n",
    "\n",
    "diccionario3={}\n",
    "U.anadir_datos(diccionario3)\n",
    "print(diccionario3)\n",
    "\n",
    "diccionario4={}\n",
    "U.anadir_datos(diccionario4)\n",
    "print(diccionario4)\n",
    "\n",
    "diccionario5={}\n",
    "U.anadir_datos(diccionario5)\n",
    "print(diccionario5)\n",
    "\n",
    "diccionario6={}\n",
    "U.anadir_datos(diccionario6)\n",
    "print(diccionario6)\n",
    "\n",
    "diccionario7={}\n",
    "U.anadir_datos(diccionario7)\n",
    "print(diccionario7)\n",
    "\n",
    "diccionario8={}\n",
    "U.anadir_datos(diccionario8)\n",
    "print(diccionario8)\n",
    "\n",
    "diccionario9={}\n",
    "U.anadir_datos(diccionario9)\n",
    "print(diccionario9)\n",
    "\n",
    "diccionario10={}\n",
    "U.anadir_datos(diccionario10)\n",
    "print(diccionario10)\n",
    "\n",
    "lista_alumnos = [diccionario1,diccionario2,diccionario3,diccionario4,diccionario5,diccionario6,diccionario7,diccionario8,diccionario9,diccionario10]\n",
    "print(\"\\nLista con los datos de todos los alumnos:\\n\",lista_alumnos)\n",
    "listanotas = []\n",
    "for diccionario in lista_alumnos:\n",
    "    listanotas.append(diccionario[\"nota\"])\n",
    "print(\"\\nLista de las notas de cada alumno:\\n\",listanotas)\n",
    "\n",
    "excel_document = openpyxl.load_workbook('C:\\\\EjerciciosPython\\\\Modulos\\\\tarea_mod_i.xlsx')\n",
    "Hoja = excel_document['Notas']\n",
    "Hoja.append(listanotas)\n",
    "\n",
    "excel_document.save('C:\\\\EjerciciosPython\\\\Modulos\\\\tarea_mod_i.xlsx')\n",
    "print(\"Las notas se han añadido a la hoja de Excel.\")"
   ]
  },
  {
   "cell_type": "code",
   "execution_count": null,
   "id": "5c17b5f8",
   "metadata": {
    "scrolled": true
   },
   "outputs": [],
   "source": [
    "import matplotlib.pyplot as grafico\n",
    "\n",
    "excel_document = openpyxl.load_workbook('C:\\\\EjerciciosPython\\\\Modulos\\\\tarea_mod_i.xlsx')\n",
    "Hoja = excel_document['Notas']\n",
    "Valores = Hoja['A1':'J1']\n",
    "\n",
    "aprobados=0\n",
    "suspensos=0\n",
    "for row in Valores:\n",
    "    for nota in row:\n",
    "        if (nota.value >= 5):\n",
    "            aprobados = aprobados+1\n",
    "        else:\n",
    "            suspensos = suspensos+1\n",
    "print(\"Hay \"+str(aprobados)+\" aprobados y \"+str(suspensos)+\" suspensos.\")\n",
    "\n",
    "x=[\"aprobados\",\"suspensos\"]\n",
    "y=[aprobados,suspensos]\n",
    "grafico.bar(x,y)\n",
    "grafico.show()"
   ]
  },
  {
   "cell_type": "markdown",
   "id": "bfa3bcfc",
   "metadata": {},
   "source": [
    "## 4. Dada una lista con 10 palabras, se crea otra estructura con esas 10 palabras donde cada palabra esté escrita al revés."
   ]
  },
  {
   "cell_type": "code",
   "execution_count": null,
   "id": "1bf7294b",
   "metadata": {},
   "outputs": [],
   "source": [
    "import funcionesutiles as U\n",
    "listapalabras = []\n",
    "for i in range(10):\n",
    "    palabra = input(\"Introduce una palabra: \")\n",
    "    listapalabras.append(palabra)\n",
    "print(\"Lista de 10 palabras:\\n\", listapalabras)\n",
    "listareves = []\n",
    "U.invertir(listapalabras, listareves)\n",
    "print(\"Lista con las palabras escritas al revés:\\n\", listareves)"
   ]
  }
 ],
 "metadata": {
  "kernelspec": {
   "display_name": "Python 3 (ipykernel)",
   "language": "python",
   "name": "python3"
  },
  "language_info": {
   "codemirror_mode": {
    "name": "ipython",
    "version": 3
   },
   "file_extension": ".py",
   "mimetype": "text/x-python",
   "name": "python",
   "nbconvert_exporter": "python",
   "pygments_lexer": "ipython3",
   "version": "3.9.13"
  }
 },
 "nbformat": 4,
 "nbformat_minor": 5
}
